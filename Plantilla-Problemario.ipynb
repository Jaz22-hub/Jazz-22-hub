{
  "cells": [
    {
      "cell_type": "markdown",
      "metadata": {
        "id": "PkYtKp1r5bSI"
      },
      "source": [
        "<img src=\"attachment:itsoeh.png\" width=\"100\" align=\"center\">"
      ]
    },
    {
      "cell_type": "markdown",
      "metadata": {
        "id": "Zu5-0D895bSL"
      },
      "source": [
        "# Problemario"
      ]
    },
    {
      "cell_type": "markdown",
      "metadata": {
        "id": "FTMGGfzI5bSL"
      },
      "source": [
        "Nombre del alumno: Iveth Jazmin Gonzalez Robles"
      ]
    },
    {
      "cell_type": "markdown",
      "metadata": {
        "id": "7abzpdNg5bSM"
      },
      "source": [
        "Asignatura: Matematicas aplicadas a las comunicaciones"
      ]
    },
    {
      "cell_type": "markdown",
      "metadata": {
        "id": "A27mo0Ep5bSM"
      },
      "source": [
        "Fecha de entrega:"
      ]
    },
    {
      "cell_type": "markdown",
      "metadata": {
        "id": "6nNvArLw5bSM"
      },
      "source": [
        "Tema: ECUACIONES DIFERENCIALES DE PRIMER ORDEN"
      ]
    },
    {
      "cell_type": "markdown",
      "metadata": {
        "id": "TSiNJmrZ5bSM"
      },
      "source": [
        "Temas: 1.1 XXXXX\n",
        "1.2 XXX ..."
      ]
    },
    {
      "cell_type": "markdown",
      "metadata": {
        "id": "K0g62Gd45bSN"
      },
      "source": [
        "**Sección I**:"
      ]
    },
    {
      "cell_type": "markdown",
      "metadata": {
        "id": "e1F50iJ95bSN"
      },
      "source": [
        "*Instrucciones*\n",
        "\n",
        "Resuelva las siguientes ecuaciones diferenciales empleando alguno de los método revisados en clase:\n",
        "* Separación de varibles\n",
        "* Factor Integrante\n"
      ]
    },
    {
      "cell_type": "markdown",
      "metadata": {
        "id": "DYuW-tvj5bSN"
      },
      "source": [
        "Evidencia de firma para validar sección:"
      ]
    },
    {
      "cell_type": "code",
      "execution_count": 6,
      "metadata": {
        "scrolled": false,
        "colab": {
          "base_uri": "https://localhost:8080/",
          "height": 304
        },
        "id": "eIJbugIE5bSO",
        "outputId": "59a0b49c-2901-4a8d-bbae-51d9970debd9"
      },
      "outputs": [
        {
          "output_type": "error",
          "ename": "FileNotFoundError",
          "evalue": "[Errno 2] No such file or directory: 'notas.jpg'",
          "traceback": [
            "\u001b[0;31m---------------------------------------------------------------------------\u001b[0m",
            "\u001b[0;31mFileNotFoundError\u001b[0m                         Traceback (most recent call last)",
            "\u001b[0;32m/tmp/ipython-input-3107975169.py\u001b[0m in \u001b[0;36m<cell line: 0>\u001b[0;34m()\u001b[0m\n\u001b[1;32m      1\u001b[0m \u001b[0;32mfrom\u001b[0m \u001b[0mIPython\u001b[0m\u001b[0;34m.\u001b[0m\u001b[0mdisplay\u001b[0m \u001b[0;32mimport\u001b[0m \u001b[0mImage\u001b[0m\u001b[0;34m\u001b[0m\u001b[0;34m\u001b[0m\u001b[0m\n\u001b[0;32m----> 2\u001b[0;31m \u001b[0mImage\u001b[0m\u001b[0;34m(\u001b[0m\u001b[0mfilename\u001b[0m\u001b[0;34m=\u001b[0m\u001b[0;34m\"notas.jpg\"\u001b[0m\u001b[0;34m,\u001b[0m \u001b[0mwidth\u001b[0m\u001b[0;34m=\u001b[0m\u001b[0;36m400\u001b[0m\u001b[0;34m,\u001b[0m \u001b[0mheight\u001b[0m\u001b[0;34m=\u001b[0m\u001b[0;36m400\u001b[0m\u001b[0;34m)\u001b[0m\u001b[0;34m\u001b[0m\u001b[0;34m\u001b[0m\u001b[0m\n\u001b[0m",
            "\u001b[0;32m/usr/local/lib/python3.12/dist-packages/IPython/core/display.py\u001b[0m in \u001b[0;36m__init__\u001b[0;34m(self, data, url, filename, format, embed, width, height, retina, unconfined, metadata)\u001b[0m\n\u001b[1;32m   1229\u001b[0m         \u001b[0mself\u001b[0m\u001b[0;34m.\u001b[0m\u001b[0mretina\u001b[0m \u001b[0;34m=\u001b[0m \u001b[0mretina\u001b[0m\u001b[0;34m\u001b[0m\u001b[0;34m\u001b[0m\u001b[0m\n\u001b[1;32m   1230\u001b[0m         \u001b[0mself\u001b[0m\u001b[0;34m.\u001b[0m\u001b[0munconfined\u001b[0m \u001b[0;34m=\u001b[0m \u001b[0munconfined\u001b[0m\u001b[0;34m\u001b[0m\u001b[0;34m\u001b[0m\u001b[0m\n\u001b[0;32m-> 1231\u001b[0;31m         super(Image, self).__init__(data=data, url=url, filename=filename, \n\u001b[0m\u001b[1;32m   1232\u001b[0m                 metadata=metadata)\n\u001b[1;32m   1233\u001b[0m \u001b[0;34m\u001b[0m\u001b[0m\n",
            "\u001b[0;32m/usr/local/lib/python3.12/dist-packages/IPython/core/display.py\u001b[0m in \u001b[0;36m__init__\u001b[0;34m(self, data, url, filename, metadata)\u001b[0m\n\u001b[1;32m    635\u001b[0m             \u001b[0mself\u001b[0m\u001b[0;34m.\u001b[0m\u001b[0mmetadata\u001b[0m \u001b[0;34m=\u001b[0m \u001b[0;34m{\u001b[0m\u001b[0;34m}\u001b[0m\u001b[0;34m\u001b[0m\u001b[0;34m\u001b[0m\u001b[0m\n\u001b[1;32m    636\u001b[0m \u001b[0;34m\u001b[0m\u001b[0m\n\u001b[0;32m--> 637\u001b[0;31m         \u001b[0mself\u001b[0m\u001b[0;34m.\u001b[0m\u001b[0mreload\u001b[0m\u001b[0;34m(\u001b[0m\u001b[0;34m)\u001b[0m\u001b[0;34m\u001b[0m\u001b[0;34m\u001b[0m\u001b[0m\n\u001b[0m\u001b[1;32m    638\u001b[0m         \u001b[0mself\u001b[0m\u001b[0;34m.\u001b[0m\u001b[0m_check_data\u001b[0m\u001b[0;34m(\u001b[0m\u001b[0;34m)\u001b[0m\u001b[0;34m\u001b[0m\u001b[0;34m\u001b[0m\u001b[0m\n\u001b[1;32m    639\u001b[0m \u001b[0;34m\u001b[0m\u001b[0m\n",
            "\u001b[0;32m/usr/local/lib/python3.12/dist-packages/IPython/core/display.py\u001b[0m in \u001b[0;36mreload\u001b[0;34m(self)\u001b[0m\n\u001b[1;32m   1261\u001b[0m         \u001b[0;34m\"\"\"Reload the raw data from file or URL.\"\"\"\u001b[0m\u001b[0;34m\u001b[0m\u001b[0;34m\u001b[0m\u001b[0m\n\u001b[1;32m   1262\u001b[0m         \u001b[0;32mif\u001b[0m \u001b[0mself\u001b[0m\u001b[0;34m.\u001b[0m\u001b[0membed\u001b[0m\u001b[0;34m:\u001b[0m\u001b[0;34m\u001b[0m\u001b[0;34m\u001b[0m\u001b[0m\n\u001b[0;32m-> 1263\u001b[0;31m             \u001b[0msuper\u001b[0m\u001b[0;34m(\u001b[0m\u001b[0mImage\u001b[0m\u001b[0;34m,\u001b[0m\u001b[0mself\u001b[0m\u001b[0;34m)\u001b[0m\u001b[0;34m.\u001b[0m\u001b[0mreload\u001b[0m\u001b[0;34m(\u001b[0m\u001b[0;34m)\u001b[0m\u001b[0;34m\u001b[0m\u001b[0;34m\u001b[0m\u001b[0m\n\u001b[0m\u001b[1;32m   1264\u001b[0m             \u001b[0;32mif\u001b[0m \u001b[0mself\u001b[0m\u001b[0;34m.\u001b[0m\u001b[0mretina\u001b[0m\u001b[0;34m:\u001b[0m\u001b[0;34m\u001b[0m\u001b[0;34m\u001b[0m\u001b[0m\n\u001b[1;32m   1265\u001b[0m                 \u001b[0mself\u001b[0m\u001b[0;34m.\u001b[0m\u001b[0m_retina_shape\u001b[0m\u001b[0;34m(\u001b[0m\u001b[0;34m)\u001b[0m\u001b[0;34m\u001b[0m\u001b[0;34m\u001b[0m\u001b[0m\n",
            "\u001b[0;32m/usr/local/lib/python3.12/dist-packages/IPython/core/display.py\u001b[0m in \u001b[0;36mreload\u001b[0;34m(self)\u001b[0m\n\u001b[1;32m    660\u001b[0m         \u001b[0;34m\"\"\"Reload the raw data from file or URL.\"\"\"\u001b[0m\u001b[0;34m\u001b[0m\u001b[0;34m\u001b[0m\u001b[0m\n\u001b[1;32m    661\u001b[0m         \u001b[0;32mif\u001b[0m \u001b[0mself\u001b[0m\u001b[0;34m.\u001b[0m\u001b[0mfilename\u001b[0m \u001b[0;32mis\u001b[0m \u001b[0;32mnot\u001b[0m \u001b[0;32mNone\u001b[0m\u001b[0;34m:\u001b[0m\u001b[0;34m\u001b[0m\u001b[0;34m\u001b[0m\u001b[0m\n\u001b[0;32m--> 662\u001b[0;31m             \u001b[0;32mwith\u001b[0m \u001b[0mopen\u001b[0m\u001b[0;34m(\u001b[0m\u001b[0mself\u001b[0m\u001b[0;34m.\u001b[0m\u001b[0mfilename\u001b[0m\u001b[0;34m,\u001b[0m \u001b[0mself\u001b[0m\u001b[0;34m.\u001b[0m\u001b[0m_read_flags\u001b[0m\u001b[0;34m)\u001b[0m \u001b[0;32mas\u001b[0m \u001b[0mf\u001b[0m\u001b[0;34m:\u001b[0m\u001b[0;34m\u001b[0m\u001b[0;34m\u001b[0m\u001b[0m\n\u001b[0m\u001b[1;32m    663\u001b[0m                 \u001b[0mself\u001b[0m\u001b[0;34m.\u001b[0m\u001b[0mdata\u001b[0m \u001b[0;34m=\u001b[0m \u001b[0mf\u001b[0m\u001b[0;34m.\u001b[0m\u001b[0mread\u001b[0m\u001b[0;34m(\u001b[0m\u001b[0;34m)\u001b[0m\u001b[0;34m\u001b[0m\u001b[0;34m\u001b[0m\u001b[0m\n\u001b[1;32m    664\u001b[0m         \u001b[0;32melif\u001b[0m \u001b[0mself\u001b[0m\u001b[0;34m.\u001b[0m\u001b[0murl\u001b[0m \u001b[0;32mis\u001b[0m \u001b[0;32mnot\u001b[0m \u001b[0;32mNone\u001b[0m\u001b[0;34m:\u001b[0m\u001b[0;34m\u001b[0m\u001b[0;34m\u001b[0m\u001b[0m\n",
            "\u001b[0;31mFileNotFoundError\u001b[0m: [Errno 2] No such file or directory: 'notas.jpg'"
          ]
        }
      ],
      "source": [
        "from IPython.display import Image\n",
        "Image(filename=\"notas.jpg\", width=400, height=400)"
      ]
    },
    {
      "cell_type": "code",
      "source": [],
      "metadata": {
        "id": "g9SpcNivgghd"
      },
      "execution_count": null,
      "outputs": []
    },
    {
      "cell_type": "code",
      "execution_count": 2,
      "metadata": {
        "id": "WPi4kcO35bSP"
      },
      "outputs": [],
      "source": [
        "#importando modulos necesarios\n",
        "%matplotlib inline\n",
        "\n",
        "import matplotlib.pyplot as plt\n",
        "import numpy as np\n",
        "import sympy\n",
        "from scipy import integrate\n",
        "from matplotlib import pyplot\n",
        "\n",
        "# imprimir con notación matemática.\n",
        "sympy.init_printing(use_latex='mathjax')"
      ]
    },
    {
      "cell_type": "code",
      "execution_count": null,
      "metadata": {
        "id": "TaQsStA85bSP",
        "outputId": "a88342e1-d42d-44ec-f5fe-83e2ed851245"
      },
      "outputs": [
        {
          "data": {
            "text/latex": [
              "$$\\frac{d}{d x} y{\\left (x \\right )} = - 3 x^{2} y{\\left (x \\right )} + 6 x^{2}$$"
            ],
            "text/plain": [
              "d               2           2\n",
              "──(y(x)) = - 3⋅x ⋅y(x) + 6⋅x \n",
              "dx                           "
            ]
          },
          "execution_count": 12,
          "metadata": {},
          "output_type": "execute_result"
        }
      ],
      "source": [
        "# Resolviendo ecuación diferencial\n",
        "# defino las incognitas\n",
        "x = sympy.Symbol('x')\n",
        "y = sympy.Function('y')\n",
        "\n",
        "# expreso la ecuacion\n",
        "f = 6*x**2 - 3*x**2*(y(x))\n",
        "sympy.Eq(y(x).diff(x), f)"
      ]
    },
    {
      "cell_type": "code",
      "execution_count": null,
      "metadata": {
        "id": "5baD_reJ5bSQ",
        "outputId": "9ba99a98-e7a8-494e-f3d7-d0d8374e7a05"
      },
      "outputs": [
        {
          "data": {
            "text/latex": [
              "$$y{\\left (x \\right )} = C_{1} e^{- x^{3}} + 2$$"
            ],
            "text/plain": [
              "             3    \n",
              "           -x     \n",
              "y(x) = C₁⋅ℯ    + 2"
            ]
          },
          "execution_count": 13,
          "metadata": {},
          "output_type": "execute_result"
        }
      ],
      "source": [
        "sympy.dsolve(y(x).diff(x) - f)"
      ]
    },
    {
      "cell_type": "code",
      "execution_count": null,
      "metadata": {
        "id": "SwoJ2cAw5bSQ"
      },
      "outputs": [],
      "source": [
        "#importando modulos necesarios\n",
        "%matplotlib inline\n",
        "\n",
        "import matplotlib.pyplot as plt\n",
        "import numpy as np\n",
        "import sympy\n",
        "from scipy import integrate\n",
        "from matplotlib import pyplot\n",
        "\n",
        "# imprimir con notación matemática.\n",
        "sympy.init_printing(use_latex='mathjax')"
      ]
    },
    {
      "cell_type": "code",
      "execution_count": null,
      "metadata": {
        "id": "tzGbkptH5bSQ",
        "outputId": "87cc389d-ff16-4e12-ad66-4b7e1976efab"
      },
      "outputs": [
        {
          "data": {
            "text/latex": [
              "$$\\frac{d}{d x} y{\\left (x \\right )} = \\frac{3 y{\\left (x \\right )}}{x}$$"
            ],
            "text/plain": [
              "d          3⋅y(x)\n",
              "──(y(x)) = ──────\n",
              "dx           x   "
            ]
          },
          "execution_count": 2,
          "metadata": {},
          "output_type": "execute_result"
        }
      ],
      "source": [
        "x = sympy.Symbol('x')\n",
        "y = sympy.Function('y')\n",
        "\n",
        "# expreso la ecuacion\n",
        "f = (3*y(x))/x\n",
        "sympy.Eq(y(x).diff(x), f)"
      ]
    },
    {
      "cell_type": "code",
      "execution_count": null,
      "metadata": {
        "id": "UbS5nrG65bSQ",
        "outputId": "57fc827a-086a-4e30-e87d-93c6b617cce2"
      },
      "outputs": [
        {
          "data": {
            "text/latex": [
              "$$y{\\left (x \\right )} = C_{1} x^{3}$$"
            ],
            "text/plain": [
              "           3\n",
              "y(x) = C₁⋅x "
            ]
          },
          "execution_count": 3,
          "metadata": {},
          "output_type": "execute_result"
        }
      ],
      "source": [
        "sympy.dsolve(y(x).diff(x) - f)"
      ]
    },
    {
      "cell_type": "code",
      "execution_count": null,
      "metadata": {
        "id": "ggnuiWpR5bSQ"
      },
      "outputs": [],
      "source": [
        "#importando modulos necesarios\n",
        "%matplotlib inline\n",
        "\n",
        "import matplotlib.pyplot as plt\n",
        "import numpy as np\n",
        "import sympy\n",
        "from scipy import integrate\n",
        "from matplotlib import pyplot\n",
        "\n",
        "# imprimir con notación matemática.\n",
        "sympy.init_printing(use_latex='mathjax')"
      ]
    },
    {
      "cell_type": "code",
      "execution_count": null,
      "metadata": {
        "id": "Xpb8jdsO5bSR",
        "outputId": "70e4bc83-3020-4f6a-bd05-5de0b932adcd"
      },
      "outputs": [
        {
          "data": {
            "text/latex": [
              "$$\\frac{d}{d x} y{\\left (x \\right )} = \\frac{8 y{\\left (x \\right )}}{x}$$"
            ],
            "text/plain": [
              "d          8⋅y(x)\n",
              "──(y(x)) = ──────\n",
              "dx           x   "
            ]
          },
          "execution_count": 5,
          "metadata": {},
          "output_type": "execute_result"
        }
      ],
      "source": [
        "x = sympy.Symbol('x')\n",
        "y = sympy.Function('y')\n",
        "\n",
        "# expreso la ecuacion\n",
        "f = (8*y(x))/x\n",
        "sympy.Eq(y(x).diff(x), f)"
      ]
    },
    {
      "cell_type": "markdown",
      "metadata": {
        "id": "Fnpx5tDh5bSR"
      },
      "source": [
        "***sección 2***:"
      ]
    },
    {
      "cell_type": "code",
      "execution_count": null,
      "metadata": {
        "id": "hfxSXpC95bSR"
      },
      "outputs": [],
      "source": [
        "import sympy\n",
        "sympy.init_printing(use_latex='mathjax')"
      ]
    },
    {
      "cell_type": "code",
      "execution_count": null,
      "metadata": {
        "id": "S1fVISie5bSR"
      },
      "outputs": [],
      "source": [
        "x=sympy.Symbol('x')\n",
        "y=sympy.Function('y')"
      ]
    },
    {
      "cell_type": "code",
      "execution_count": null,
      "metadata": {
        "id": "qFRX1U3c5bSR",
        "outputId": "4b5e49de-db58-45bb-daa9-4bad7ee93cc2"
      },
      "outputs": [
        {
          "data": {
            "text/latex": [
              "$$3 x \\frac{d}{d x} y{\\left (x \\right )} - \\left(x^{2} - 9\\right) y{\\left (x \\right )} + \\frac{1}{x} = 0$$"
            ],
            "text/plain": [
              "    d          ⎛ 2    ⎞        1    \n",
              "3⋅x⋅──(y(x)) - ⎝x  - 9⎠⋅y(x) + ─ = 0\n",
              "    dx                         x    "
            ]
          },
          "execution_count": 9,
          "metadata": {},
          "output_type": "execute_result"
        }
      ],
      "source": [
        "sympy.Eq(3*x*y(x).diff(x)-(x**2-9)*y(x)+1/x)"
      ]
    },
    {
      "cell_type": "code",
      "execution_count": null,
      "metadata": {
        "id": "Y0IjCzJV5bSR"
      },
      "outputs": [],
      "source": []
    },
    {
      "cell_type": "code",
      "execution_count": null,
      "metadata": {
        "id": "_o-GRKyb5bSR"
      },
      "outputs": [],
      "source": []
    },
    {
      "cell_type": "code",
      "execution_count": null,
      "metadata": {
        "id": "9sMz583p5bSS"
      },
      "outputs": [],
      "source": []
    }
  ],
  "metadata": {
    "kernelspec": {
      "display_name": "Python 3",
      "language": "python",
      "name": "python3"
    },
    "language_info": {
      "codemirror_mode": {
        "name": "ipython",
        "version": 3
      },
      "file_extension": ".py",
      "mimetype": "text/x-python",
      "name": "python",
      "nbconvert_exporter": "python",
      "pygments_lexer": "ipython3",
      "version": "3.7.1"
    },
    "colab": {
      "provenance": []
    }
  },
  "nbformat": 4,
  "nbformat_minor": 0
}